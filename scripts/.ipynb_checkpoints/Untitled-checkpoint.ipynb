{
 "cells": [
  {
   "cell_type": "code",
   "execution_count": 1,
   "id": "a28c1bf9-dc3d-479f-900e-3310b4cef3a0",
   "metadata": {},
   "outputs": [],
   "source": [
    "from api_data_fetcher import MyAPI\n",
    "from database_handler import MySQL\n",
    "from feature_engineering import TechnicalIndicatorGenerator\n",
    "from model_trainer import ModelPipeline\n",
    "\n",
    "import warnings\n",
    "warnings.filterwarnings(\"ignore\")"
   ]
  },
  {
   "cell_type": "code",
   "execution_count": 2,
   "id": "669b7294-bcf8-4ea9-aadb-5da11da05171",
   "metadata": {},
   "outputs": [],
   "source": [
    "api = MyAPI()"
   ]
  },
  {
   "cell_type": "code",
   "execution_count": 3,
   "id": "8891f0ca-bdc3-4fa3-87d3-667dfb874af5",
   "metadata": {},
   "outputs": [],
   "source": [
    "df_stock = api.get_stock(symbol = 'IBM', size = 'full')\n",
    "df_crypto = api.get_crypto(symbol = 'BTC', market = 'USD', size = 'full')"
   ]
  },
  {
   "cell_type": "code",
   "execution_count": 4,
   "id": "e67c8bd0-40cb-4d51-a6b9-2bacbc276403",
   "metadata": {},
   "outputs": [
    {
     "data": {
      "text/html": [
       "<div>\n",
       "<style scoped>\n",
       "    .dataframe tbody tr th:only-of-type {\n",
       "        vertical-align: middle;\n",
       "    }\n",
       "\n",
       "    .dataframe tbody tr th {\n",
       "        vertical-align: top;\n",
       "    }\n",
       "\n",
       "    .dataframe thead th {\n",
       "        text-align: right;\n",
       "    }\n",
       "</style>\n",
       "<table border=\"1\" class=\"dataframe\">\n",
       "  <thead>\n",
       "    <tr style=\"text-align: right;\">\n",
       "      <th></th>\n",
       "      <th>open</th>\n",
       "      <th>high</th>\n",
       "      <th>low</th>\n",
       "      <th>close</th>\n",
       "      <th>volume</th>\n",
       "    </tr>\n",
       "    <tr>\n",
       "      <th>timestamp</th>\n",
       "      <th></th>\n",
       "      <th></th>\n",
       "      <th></th>\n",
       "      <th></th>\n",
       "      <th></th>\n",
       "    </tr>\n",
       "  </thead>\n",
       "  <tbody>\n",
       "    <tr>\n",
       "      <th>2025-05-15</th>\n",
       "      <td>259.01</td>\n",
       "      <td>267.43</td>\n",
       "      <td>258.61</td>\n",
       "      <td>266.68</td>\n",
       "      <td>4856276</td>\n",
       "    </tr>\n",
       "    <tr>\n",
       "      <th>2025-05-14</th>\n",
       "      <td>257.60</td>\n",
       "      <td>260.55</td>\n",
       "      <td>256.22</td>\n",
       "      <td>257.82</td>\n",
       "      <td>3635124</td>\n",
       "    </tr>\n",
       "    <tr>\n",
       "      <th>2025-05-13</th>\n",
       "      <td>254.43</td>\n",
       "      <td>259.58</td>\n",
       "      <td>252.88</td>\n",
       "      <td>258.59</td>\n",
       "      <td>3521389</td>\n",
       "    </tr>\n",
       "    <tr>\n",
       "      <th>2025-05-12</th>\n",
       "      <td>252.50</td>\n",
       "      <td>253.81</td>\n",
       "      <td>244.65</td>\n",
       "      <td>253.69</td>\n",
       "      <td>4609520</td>\n",
       "    </tr>\n",
       "    <tr>\n",
       "      <th>2025-05-09</th>\n",
       "      <td>252.51</td>\n",
       "      <td>253.00</td>\n",
       "      <td>247.64</td>\n",
       "      <td>249.20</td>\n",
       "      <td>2901346</td>\n",
       "    </tr>\n",
       "  </tbody>\n",
       "</table>\n",
       "</div>"
      ],
      "text/plain": [
       "              open    high     low   close   volume\n",
       "timestamp                                          \n",
       "2025-05-15  259.01  267.43  258.61  266.68  4856276\n",
       "2025-05-14  257.60  260.55  256.22  257.82  3635124\n",
       "2025-05-13  254.43  259.58  252.88  258.59  3521389\n",
       "2025-05-12  252.50  253.81  244.65  253.69  4609520\n",
       "2025-05-09  252.51  253.00  247.64  249.20  2901346"
      ]
     },
     "execution_count": 4,
     "metadata": {},
     "output_type": "execute_result"
    }
   ],
   "source": [
    "df_stock.head()"
   ]
  },
  {
   "cell_type": "code",
   "execution_count": 5,
   "id": "1b47ea03-60f9-4357-9f58-b8efafc212d4",
   "metadata": {},
   "outputs": [
    {
     "data": {
      "text/html": [
       "<div>\n",
       "<style scoped>\n",
       "    .dataframe tbody tr th:only-of-type {\n",
       "        vertical-align: middle;\n",
       "    }\n",
       "\n",
       "    .dataframe tbody tr th {\n",
       "        vertical-align: top;\n",
       "    }\n",
       "\n",
       "    .dataframe thead th {\n",
       "        text-align: right;\n",
       "    }\n",
       "</style>\n",
       "<table border=\"1\" class=\"dataframe\">\n",
       "  <thead>\n",
       "    <tr style=\"text-align: right;\">\n",
       "      <th></th>\n",
       "      <th>open</th>\n",
       "      <th>high</th>\n",
       "      <th>low</th>\n",
       "      <th>close</th>\n",
       "      <th>volume</th>\n",
       "    </tr>\n",
       "    <tr>\n",
       "      <th>timestamp</th>\n",
       "      <th></th>\n",
       "      <th></th>\n",
       "      <th></th>\n",
       "      <th></th>\n",
       "      <th></th>\n",
       "    </tr>\n",
       "  </thead>\n",
       "  <tbody>\n",
       "    <tr>\n",
       "      <th>2025-05-15</th>\n",
       "      <td>45.43</td>\n",
       "      <td>46.1700</td>\n",
       "      <td>44.9300</td>\n",
       "      <td>45.70</td>\n",
       "      <td>669748</td>\n",
       "    </tr>\n",
       "    <tr>\n",
       "      <th>2025-05-14</th>\n",
       "      <td>46.11</td>\n",
       "      <td>46.2500</td>\n",
       "      <td>45.4650</td>\n",
       "      <td>45.77</td>\n",
       "      <td>1020446</td>\n",
       "    </tr>\n",
       "    <tr>\n",
       "      <th>2025-05-13</th>\n",
       "      <td>45.97</td>\n",
       "      <td>46.5535</td>\n",
       "      <td>45.5800</td>\n",
       "      <td>46.45</td>\n",
       "      <td>1246796</td>\n",
       "    </tr>\n",
       "    <tr>\n",
       "      <th>2025-05-12</th>\n",
       "      <td>46.13</td>\n",
       "      <td>46.3300</td>\n",
       "      <td>44.6554</td>\n",
       "      <td>45.11</td>\n",
       "      <td>1179521</td>\n",
       "    </tr>\n",
       "    <tr>\n",
       "      <th>2025-05-09</th>\n",
       "      <td>45.63</td>\n",
       "      <td>46.0050</td>\n",
       "      <td>45.3600</td>\n",
       "      <td>45.75</td>\n",
       "      <td>1311055</td>\n",
       "    </tr>\n",
       "  </tbody>\n",
       "</table>\n",
       "</div>"
      ],
      "text/plain": [
       "             open     high      low  close   volume\n",
       "timestamp                                          \n",
       "2025-05-15  45.43  46.1700  44.9300  45.70   669748\n",
       "2025-05-14  46.11  46.2500  45.4650  45.77  1020446\n",
       "2025-05-13  45.97  46.5535  45.5800  46.45  1246796\n",
       "2025-05-12  46.13  46.3300  44.6554  45.11  1179521\n",
       "2025-05-09  45.63  46.0050  45.3600  45.75  1311055"
      ]
     },
     "execution_count": 5,
     "metadata": {},
     "output_type": "execute_result"
    }
   ],
   "source": [
    "df_crypto.head()"
   ]
  },
  {
   "cell_type": "code",
   "execution_count": 1,
   "id": "cd21ba41-e0d3-4e06-be2c-6d4003df4d7d",
   "metadata": {},
   "outputs": [],
   "source": [
    "mysql = MySQL()"
   ]
  },
  {
   "cell_type": "code",
   "execution_count": 2,
   "id": "63cb289e-9947-4688-9fb3-824c9ed026f0",
   "metadata": {},
   "outputs": [
    {
     "ename": "NameError",
     "evalue": "name 'df_stock' is not defined",
     "output_type": "error",
     "traceback": [
      "\u001b[0;31m---------------------------------------------------------------------------\u001b[0m",
      "\u001b[0;31mNameError\u001b[0m                                 Traceback (most recent call last)",
      "Cell \u001b[0;32mIn[2], line 1\u001b[0m\n\u001b[0;32m----> 1\u001b[0m mysql\u001b[38;5;241m.\u001b[39mto_table(\u001b[43mdf_stock\u001b[49m, \u001b[38;5;124m'\u001b[39m\u001b[38;5;124mibm\u001b[39m\u001b[38;5;124m'\u001b[39m, if_exists \u001b[38;5;241m=\u001b[39m \u001b[38;5;124m'\u001b[39m\u001b[38;5;124mreplace\u001b[39m\u001b[38;5;124m'\u001b[39m)\n",
      "\u001b[0;31mNameError\u001b[0m: name 'df_stock' is not defined"
     ]
    }
   ],
   "source": [
    "mysql.to_table(df_stock, 'ibm', if_exists = 'replace')"
   ]
  },
  {
   "cell_type": "code",
   "execution_count": 1,
   "id": "77eb6502-1f40-4b70-acf6-b334fbdb9651",
   "metadata": {},
   "outputs": [
    {
     "name": "stdout",
     "output_type": "stream",
     "text": [
      "Data retrieved from table 'ibm' successfully.\n"
     ]
    },
    {
     "data": {
      "text/plain": [
       "(500, 5)"
      ]
     },
     "execution_count": 1,
     "metadata": {},
     "output_type": "execute_result"
    }
   ],
   "source": [
    "from api_data_fetcher import MyAPI\n",
    "from database_handler import MySQL\n",
    "from feature_engineering import TechnicalIndicatorGenerator\n",
    "from model_trainer import ModelPipeline\n",
    "\n",
    "import warnings\n",
    "warnings.filterwarnings(\"ignore\")\n",
    "mysql = MySQL()\n",
    "\n",
    "mysql = MySQL()\n",
    "df_stock_new = mysql.from_table(symbol = 'ibm')\n",
    "df_stock_new.shape"
   ]
  },
  {
   "cell_type": "code",
   "execution_count": 2,
   "id": "16a3d94b-37aa-408f-ab26-ddf47a56ca4c",
   "metadata": {},
   "outputs": [
    {
     "data": {
      "text/plain": [
       "(301, 171)"
      ]
     },
     "execution_count": 2,
     "metadata": {},
     "output_type": "execute_result"
    }
   ],
   "source": [
    "ind = TechnicalIndicatorGenerator()\n",
    "df = ind.generate_indicators(df_stock_new)\n",
    "df.shape"
   ]
  },
  {
   "cell_type": "code",
   "execution_count": 3,
   "id": "b9fc51f4-4b3f-4a05-b7c9-2a647eaa2b84",
   "metadata": {},
   "outputs": [],
   "source": [
    "model = ModelPipeline()"
   ]
  },
  {
   "cell_type": "code",
   "execution_count": 4,
   "id": "68aa9784-4340-430e-8d76-dddb0f19301a",
   "metadata": {},
   "outputs": [],
   "source": [
    "model.vertical_split(df, 'class')"
   ]
  },
  {
   "cell_type": "code",
   "execution_count": 5,
   "id": "af5978e5-fcf9-4314-bb32-135e6aac261b",
   "metadata": {
    "scrolled": true
   },
   "outputs": [
    {
     "name": "stdout",
     "output_type": "stream",
     "text": [
      "Applying PCA feature selection...\n",
      "Applying Dispersion_Ratio feature selection...\n",
      "Applying Chi_Square feature selection...\n",
      "Applying Pearson_Correlation feature selection...\n",
      "Applying Mean_Absolute_Difference feature selection...\n",
      "Applying Low_Variance feature selection...\n",
      "Evaluating Model on All Features...\n",
      "Threshold n = 0: 170 features, accuracy = 0.8167\n",
      "Evaluating Features Selected by atleast 1 Methods...\n",
      "Threshold n = 1: 100 features, accuracy = 0.8000\n",
      "Evaluating Features Selected by atleast 2 Methods...\n",
      "Threshold n = 2: 59 features, accuracy = 0.8333\n",
      "Evaluating Features Selected by atleast 3 Methods...\n",
      "Threshold n = 3: 45 features, accuracy = 0.8500\n",
      "Evaluating Features Selected by atleast 4 Methods...\n",
      "Threshold n = 4: 39 features, accuracy = 0.8032\n",
      "Evaluating Features Selected by atleast 5 Methods...\n",
      "Threshold n = 5: 9 features, accuracy = 0.6833\n",
      "No Features Selected for Threshold n = 6\n"
     ]
    }
   ],
   "source": [
    "results = model.train_with_kfold()"
   ]
  },
  {
   "cell_type": "code",
   "execution_count": 6,
   "id": "bbee1c81-db39-42b1-8ba7-c64ba2dcb200",
   "metadata": {},
   "outputs": [
    {
     "data": {
      "text/html": [
       "<div>\n",
       "<style scoped>\n",
       "    .dataframe tbody tr th:only-of-type {\n",
       "        vertical-align: middle;\n",
       "    }\n",
       "\n",
       "    .dataframe tbody tr th {\n",
       "        vertical-align: top;\n",
       "    }\n",
       "\n",
       "    .dataframe thead th {\n",
       "        text-align: right;\n",
       "    }\n",
       "</style>\n",
       "<table border=\"1\" class=\"dataframe\">\n",
       "  <thead>\n",
       "    <tr style=\"text-align: right;\">\n",
       "      <th></th>\n",
       "      <th>index</th>\n",
       "      <th>num_features</th>\n",
       "      <th>features</th>\n",
       "      <th>accuracy</th>\n",
       "      <th>time_taken</th>\n",
       "      <th>epochs</th>\n",
       "    </tr>\n",
       "  </thead>\n",
       "  <tbody>\n",
       "    <tr>\n",
       "      <th>0</th>\n",
       "      <td>5</td>\n",
       "      <td>9</td>\n",
       "      <td>[BBP_20_2.0, rsi_21_hl2, rsi_6_hl2, rsi_6_hlc3...</td>\n",
       "      <td>0.683333</td>\n",
       "      <td>10.896016</td>\n",
       "      <td>1033</td>\n",
       "    </tr>\n",
       "    <tr>\n",
       "      <th>1</th>\n",
       "      <td>4</td>\n",
       "      <td>39</td>\n",
       "      <td>[dec, rsi_6_hlc3, rsi_30_ohlc4, zscore_30, CCI...</td>\n",
       "      <td>0.803226</td>\n",
       "      <td>2.429376</td>\n",
       "      <td>135</td>\n",
       "    </tr>\n",
       "    <tr>\n",
       "      <th>2</th>\n",
       "      <td>3</td>\n",
       "      <td>45</td>\n",
       "      <td>[dec, rsi_6_hlc3, rsi_30_ohlc4, zscore_30, CCI...</td>\n",
       "      <td>0.85</td>\n",
       "      <td>48.675785</td>\n",
       "      <td>142</td>\n",
       "    </tr>\n",
       "    <tr>\n",
       "      <th>3</th>\n",
       "      <td>2</td>\n",
       "      <td>59</td>\n",
       "      <td>[dec, rsi_6_hlc3, rsi_30_ohlc4, zscore_30, clo...</td>\n",
       "      <td>0.833333</td>\n",
       "      <td>37.335247</td>\n",
       "      <td>118</td>\n",
       "    </tr>\n",
       "    <tr>\n",
       "      <th>4</th>\n",
       "      <td>1</td>\n",
       "      <td>100</td>\n",
       "      <td>[rsi_30_ohlc4, zscore_30, CCI_14_0.015, rollin...</td>\n",
       "      <td>0.8</td>\n",
       "      <td>26.401969</td>\n",
       "      <td>80</td>\n",
       "    </tr>\n",
       "    <tr>\n",
       "      <th>5</th>\n",
       "      <td>0</td>\n",
       "      <td>170</td>\n",
       "      <td>[open, high, low, close, volume, hl2, hlc3, oh...</td>\n",
       "      <td>0.816667</td>\n",
       "      <td>72.27511</td>\n",
       "      <td>100</td>\n",
       "    </tr>\n",
       "  </tbody>\n",
       "</table>\n",
       "</div>"
      ],
      "text/plain": [
       "   index num_features                                           features  \\\n",
       "0      5            9  [BBP_20_2.0, rsi_21_hl2, rsi_6_hl2, rsi_6_hlc3...   \n",
       "1      4           39  [dec, rsi_6_hlc3, rsi_30_ohlc4, zscore_30, CCI...   \n",
       "2      3           45  [dec, rsi_6_hlc3, rsi_30_ohlc4, zscore_30, CCI...   \n",
       "3      2           59  [dec, rsi_6_hlc3, rsi_30_ohlc4, zscore_30, clo...   \n",
       "4      1          100  [rsi_30_ohlc4, zscore_30, CCI_14_0.015, rollin...   \n",
       "5      0          170  [open, high, low, close, volume, hl2, hlc3, oh...   \n",
       "\n",
       "   accuracy time_taken epochs  \n",
       "0  0.683333  10.896016   1033  \n",
       "1  0.803226   2.429376    135  \n",
       "2      0.85  48.675785    142  \n",
       "3  0.833333  37.335247    118  \n",
       "4       0.8  26.401969     80  \n",
       "5  0.816667   72.27511    100  "
      ]
     },
     "execution_count": 6,
     "metadata": {},
     "output_type": "execute_result"
    }
   ],
   "source": [
    "results"
   ]
  },
  {
   "cell_type": "code",
   "execution_count": null,
   "id": "2283606e-2b8f-4d0f-af04-d7bcd529e60f",
   "metadata": {},
   "outputs": [],
   "source": []
  }
 ],
 "metadata": {
  "kernelspec": {
   "display_name": "Python 3 (ipykernel)",
   "language": "python",
   "name": "python3"
  },
  "language_info": {
   "codemirror_mode": {
    "name": "ipython",
    "version": 3
   },
   "file_extension": ".py",
   "mimetype": "text/x-python",
   "name": "python",
   "nbconvert_exporter": "python",
   "pygments_lexer": "ipython3",
   "version": "3.10.12"
  }
 },
 "nbformat": 4,
 "nbformat_minor": 5
}
