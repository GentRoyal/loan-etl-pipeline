{
 "cells": [
  {
   "cell_type": "code",
   "execution_count": 1,
   "id": "d9178570-b1e4-43e3-a007-50a4b89c5da5",
   "metadata": {},
   "outputs": [],
   "source": [
    "from api_data_fetcher import MyAPI\n",
    "from database_handler import MySQL\n",
    "from feature_engineering import TechnicalIndicatorGenerator\n",
    "\n",
    "import warnings\n",
    "warnings.filterwarnings(\"ignore\")"
   ]
  },
  {
   "cell_type": "code",
   "execution_count": 2,
   "id": "669b7294-bcf8-4ea9-aadb-5da11da05171",
   "metadata": {},
   "outputs": [],
   "source": [
    "api = MyAPI()"
   ]
  },
  {
   "cell_type": "code",
   "execution_count": 3,
   "id": "8891f0ca-bdc3-4fa3-87d3-667dfb874af5",
   "metadata": {},
   "outputs": [],
   "source": [
    "df_stock = api.get_stock(symbol = 'IBM', size = 'full')\n",
    "df_crypto = api.get_crypto(symbol = 'BTC', market = 'USD', size = 'full')"
   ]
  },
  {
   "cell_type": "code",
   "execution_count": 4,
   "id": "e67c8bd0-40cb-4d51-a6b9-2bacbc276403",
   "metadata": {},
   "outputs": [
    {
     "data": {
      "text/html": [
       "<div>\n",
       "<style scoped>\n",
       "    .dataframe tbody tr th:only-of-type {\n",
       "        vertical-align: middle;\n",
       "    }\n",
       "\n",
       "    .dataframe tbody tr th {\n",
       "        vertical-align: top;\n",
       "    }\n",
       "\n",
       "    .dataframe thead th {\n",
       "        text-align: right;\n",
       "    }\n",
       "</style>\n",
       "<table border=\"1\" class=\"dataframe\">\n",
       "  <thead>\n",
       "    <tr style=\"text-align: right;\">\n",
       "      <th></th>\n",
       "      <th>open</th>\n",
       "      <th>high</th>\n",
       "      <th>low</th>\n",
       "      <th>close</th>\n",
       "      <th>volume</th>\n",
       "    </tr>\n",
       "    <tr>\n",
       "      <th>timestamp</th>\n",
       "      <th></th>\n",
       "      <th></th>\n",
       "      <th></th>\n",
       "      <th></th>\n",
       "      <th></th>\n",
       "    </tr>\n",
       "  </thead>\n",
       "  <tbody>\n",
       "    <tr>\n",
       "      <th>2025-05-15</th>\n",
       "      <td>259.05</td>\n",
       "      <td>267.43</td>\n",
       "      <td>258.61</td>\n",
       "      <td>266.67</td>\n",
       "      <td>4852910</td>\n",
       "    </tr>\n",
       "    <tr>\n",
       "      <th>2025-05-14</th>\n",
       "      <td>257.60</td>\n",
       "      <td>260.55</td>\n",
       "      <td>256.22</td>\n",
       "      <td>257.82</td>\n",
       "      <td>3635124</td>\n",
       "    </tr>\n",
       "    <tr>\n",
       "      <th>2025-05-13</th>\n",
       "      <td>254.43</td>\n",
       "      <td>259.58</td>\n",
       "      <td>252.88</td>\n",
       "      <td>258.59</td>\n",
       "      <td>3521389</td>\n",
       "    </tr>\n",
       "    <tr>\n",
       "      <th>2025-05-12</th>\n",
       "      <td>252.50</td>\n",
       "      <td>253.81</td>\n",
       "      <td>244.65</td>\n",
       "      <td>253.69</td>\n",
       "      <td>4609520</td>\n",
       "    </tr>\n",
       "    <tr>\n",
       "      <th>2025-05-09</th>\n",
       "      <td>252.51</td>\n",
       "      <td>253.00</td>\n",
       "      <td>247.64</td>\n",
       "      <td>249.20</td>\n",
       "      <td>2901346</td>\n",
       "    </tr>\n",
       "  </tbody>\n",
       "</table>\n",
       "</div>"
      ],
      "text/plain": [
       "              open    high     low   close   volume\n",
       "timestamp                                          \n",
       "2025-05-15  259.05  267.43  258.61  266.67  4852910\n",
       "2025-05-14  257.60  260.55  256.22  257.82  3635124\n",
       "2025-05-13  254.43  259.58  252.88  258.59  3521389\n",
       "2025-05-12  252.50  253.81  244.65  253.69  4609520\n",
       "2025-05-09  252.51  253.00  247.64  249.20  2901346"
      ]
     },
     "execution_count": 4,
     "metadata": {},
     "output_type": "execute_result"
    }
   ],
   "source": [
    "df_stock.head()"
   ]
  },
  {
   "cell_type": "code",
   "execution_count": 5,
   "id": "1b47ea03-60f9-4357-9f58-b8efafc212d4",
   "metadata": {},
   "outputs": [
    {
     "data": {
      "text/html": [
       "<div>\n",
       "<style scoped>\n",
       "    .dataframe tbody tr th:only-of-type {\n",
       "        vertical-align: middle;\n",
       "    }\n",
       "\n",
       "    .dataframe tbody tr th {\n",
       "        vertical-align: top;\n",
       "    }\n",
       "\n",
       "    .dataframe thead th {\n",
       "        text-align: right;\n",
       "    }\n",
       "</style>\n",
       "<table border=\"1\" class=\"dataframe\">\n",
       "  <thead>\n",
       "    <tr style=\"text-align: right;\">\n",
       "      <th></th>\n",
       "      <th>open</th>\n",
       "      <th>high</th>\n",
       "      <th>low</th>\n",
       "      <th>close</th>\n",
       "      <th>volume</th>\n",
       "    </tr>\n",
       "    <tr>\n",
       "      <th>timestamp</th>\n",
       "      <th></th>\n",
       "      <th></th>\n",
       "      <th></th>\n",
       "      <th></th>\n",
       "      <th></th>\n",
       "    </tr>\n",
       "  </thead>\n",
       "  <tbody>\n",
       "    <tr>\n",
       "      <th>2025-05-15</th>\n",
       "      <td>45.42</td>\n",
       "      <td>46.1700</td>\n",
       "      <td>44.9300</td>\n",
       "      <td>45.70</td>\n",
       "      <td>667812</td>\n",
       "    </tr>\n",
       "    <tr>\n",
       "      <th>2025-05-14</th>\n",
       "      <td>46.11</td>\n",
       "      <td>46.2500</td>\n",
       "      <td>45.4650</td>\n",
       "      <td>45.77</td>\n",
       "      <td>1020446</td>\n",
       "    </tr>\n",
       "    <tr>\n",
       "      <th>2025-05-13</th>\n",
       "      <td>45.97</td>\n",
       "      <td>46.5535</td>\n",
       "      <td>45.5800</td>\n",
       "      <td>46.45</td>\n",
       "      <td>1246796</td>\n",
       "    </tr>\n",
       "    <tr>\n",
       "      <th>2025-05-12</th>\n",
       "      <td>46.13</td>\n",
       "      <td>46.3300</td>\n",
       "      <td>44.6554</td>\n",
       "      <td>45.11</td>\n",
       "      <td>1179521</td>\n",
       "    </tr>\n",
       "    <tr>\n",
       "      <th>2025-05-09</th>\n",
       "      <td>45.63</td>\n",
       "      <td>46.0050</td>\n",
       "      <td>45.3600</td>\n",
       "      <td>45.75</td>\n",
       "      <td>1311055</td>\n",
       "    </tr>\n",
       "  </tbody>\n",
       "</table>\n",
       "</div>"
      ],
      "text/plain": [
       "             open     high      low  close   volume\n",
       "timestamp                                          \n",
       "2025-05-15  45.42  46.1700  44.9300  45.70   667812\n",
       "2025-05-14  46.11  46.2500  45.4650  45.77  1020446\n",
       "2025-05-13  45.97  46.5535  45.5800  46.45  1246796\n",
       "2025-05-12  46.13  46.3300  44.6554  45.11  1179521\n",
       "2025-05-09  45.63  46.0050  45.3600  45.75  1311055"
      ]
     },
     "execution_count": 5,
     "metadata": {},
     "output_type": "execute_result"
    }
   ],
   "source": [
    "df_crypto.head()"
   ]
  },
  {
   "cell_type": "code",
   "execution_count": 6,
   "id": "cd21ba41-e0d3-4e06-be2c-6d4003df4d7d",
   "metadata": {},
   "outputs": [],
   "source": [
    "mysql = MySQL()"
   ]
  },
  {
   "cell_type": "code",
   "execution_count": 7,
   "id": "63cb289e-9947-4688-9fb3-824c9ed026f0",
   "metadata": {},
   "outputs": [
    {
     "name": "stdout",
     "output_type": "stream",
     "text": [
      "Data inserted into table 'ibm' successfully.\n"
     ]
    }
   ],
   "source": [
    "mysql.to_table(df_stock, 'ibm', if_exists = 'replace')"
   ]
  },
  {
   "cell_type": "code",
   "execution_count": 8,
   "id": "77eb6502-1f40-4b70-acf6-b334fbdb9651",
   "metadata": {},
   "outputs": [
    {
     "name": "stdout",
     "output_type": "stream",
     "text": [
      "Data retrieved from table 'ibm' successfully.\n"
     ]
    },
    {
     "data": {
      "text/html": [
       "<div>\n",
       "<style scoped>\n",
       "    .dataframe tbody tr th:only-of-type {\n",
       "        vertical-align: middle;\n",
       "    }\n",
       "\n",
       "    .dataframe tbody tr th {\n",
       "        vertical-align: top;\n",
       "    }\n",
       "\n",
       "    .dataframe thead th {\n",
       "        text-align: right;\n",
       "    }\n",
       "</style>\n",
       "<table border=\"1\" class=\"dataframe\">\n",
       "  <thead>\n",
       "    <tr style=\"text-align: right;\">\n",
       "      <th></th>\n",
       "      <th>open</th>\n",
       "      <th>high</th>\n",
       "      <th>low</th>\n",
       "      <th>close</th>\n",
       "      <th>volume</th>\n",
       "    </tr>\n",
       "  </thead>\n",
       "  <tbody>\n",
       "    <tr>\n",
       "      <th>0</th>\n",
       "      <td>259.05</td>\n",
       "      <td>267.43</td>\n",
       "      <td>258.61</td>\n",
       "      <td>266.67</td>\n",
       "      <td>4852910</td>\n",
       "    </tr>\n",
       "    <tr>\n",
       "      <th>1</th>\n",
       "      <td>257.60</td>\n",
       "      <td>260.55</td>\n",
       "      <td>256.22</td>\n",
       "      <td>257.82</td>\n",
       "      <td>3635124</td>\n",
       "    </tr>\n",
       "    <tr>\n",
       "      <th>2</th>\n",
       "      <td>254.43</td>\n",
       "      <td>259.58</td>\n",
       "      <td>252.88</td>\n",
       "      <td>258.59</td>\n",
       "      <td>3521389</td>\n",
       "    </tr>\n",
       "    <tr>\n",
       "      <th>3</th>\n",
       "      <td>252.50</td>\n",
       "      <td>253.81</td>\n",
       "      <td>244.65</td>\n",
       "      <td>253.69</td>\n",
       "      <td>4609520</td>\n",
       "    </tr>\n",
       "    <tr>\n",
       "      <th>4</th>\n",
       "      <td>252.51</td>\n",
       "      <td>253.00</td>\n",
       "      <td>247.64</td>\n",
       "      <td>249.20</td>\n",
       "      <td>2901346</td>\n",
       "    </tr>\n",
       "  </tbody>\n",
       "</table>\n",
       "</div>"
      ],
      "text/plain": [
       "     open    high     low   close   volume\n",
       "0  259.05  267.43  258.61  266.67  4852910\n",
       "1  257.60  260.55  256.22  257.82  3635124\n",
       "2  254.43  259.58  252.88  258.59  3521389\n",
       "3  252.50  253.81  244.65  253.69  4609520\n",
       "4  252.51  253.00  247.64  249.20  2901346"
      ]
     },
     "execution_count": 8,
     "metadata": {},
     "output_type": "execute_result"
    }
   ],
   "source": [
    "df_stock_new = mysql.from_table(symbol = 'ibm')\n",
    "df_stock_new.head()"
   ]
  },
  {
   "cell_type": "code",
   "execution_count": 9,
   "id": "f94072a3-c2e8-4fc5-9fd7-07e79f4298fc",
   "metadata": {},
   "outputs": [
    {
     "data": {
      "text/html": [
       "<div>\n",
       "<style scoped>\n",
       "    .dataframe tbody tr th:only-of-type {\n",
       "        vertical-align: middle;\n",
       "    }\n",
       "\n",
       "    .dataframe tbody tr th {\n",
       "        vertical-align: top;\n",
       "    }\n",
       "\n",
       "    .dataframe thead th {\n",
       "        text-align: right;\n",
       "    }\n",
       "</style>\n",
       "<table border=\"1\" class=\"dataframe\">\n",
       "  <thead>\n",
       "    <tr style=\"text-align: right;\">\n",
       "      <th></th>\n",
       "      <th>open</th>\n",
       "      <th>high</th>\n",
       "      <th>low</th>\n",
       "      <th>close</th>\n",
       "      <th>volume</th>\n",
       "    </tr>\n",
       "    <tr>\n",
       "      <th>timestamp</th>\n",
       "      <th></th>\n",
       "      <th></th>\n",
       "      <th></th>\n",
       "      <th></th>\n",
       "      <th></th>\n",
       "    </tr>\n",
       "  </thead>\n",
       "  <tbody>\n",
       "    <tr>\n",
       "      <th>2025-05-15</th>\n",
       "      <td>45.42</td>\n",
       "      <td>46.1700</td>\n",
       "      <td>44.9300</td>\n",
       "      <td>45.70</td>\n",
       "      <td>667812</td>\n",
       "    </tr>\n",
       "    <tr>\n",
       "      <th>2025-05-14</th>\n",
       "      <td>46.11</td>\n",
       "      <td>46.2500</td>\n",
       "      <td>45.4650</td>\n",
       "      <td>45.77</td>\n",
       "      <td>1020446</td>\n",
       "    </tr>\n",
       "    <tr>\n",
       "      <th>2025-05-13</th>\n",
       "      <td>45.97</td>\n",
       "      <td>46.5535</td>\n",
       "      <td>45.5800</td>\n",
       "      <td>46.45</td>\n",
       "      <td>1246796</td>\n",
       "    </tr>\n",
       "    <tr>\n",
       "      <th>2025-05-12</th>\n",
       "      <td>46.13</td>\n",
       "      <td>46.3300</td>\n",
       "      <td>44.6554</td>\n",
       "      <td>45.11</td>\n",
       "      <td>1179521</td>\n",
       "    </tr>\n",
       "    <tr>\n",
       "      <th>2025-05-09</th>\n",
       "      <td>45.63</td>\n",
       "      <td>46.0050</td>\n",
       "      <td>45.3600</td>\n",
       "      <td>45.75</td>\n",
       "      <td>1311055</td>\n",
       "    </tr>\n",
       "  </tbody>\n",
       "</table>\n",
       "</div>"
      ],
      "text/plain": [
       "             open     high      low  close   volume\n",
       "timestamp                                          \n",
       "2025-05-15  45.42  46.1700  44.9300  45.70   667812\n",
       "2025-05-14  46.11  46.2500  45.4650  45.77  1020446\n",
       "2025-05-13  45.97  46.5535  45.5800  46.45  1246796\n",
       "2025-05-12  46.13  46.3300  44.6554  45.11  1179521\n",
       "2025-05-09  45.63  46.0050  45.3600  45.75  1311055"
      ]
     },
     "execution_count": 9,
     "metadata": {},
     "output_type": "execute_result"
    }
   ],
   "source": [
    "df_crypto.head()"
   ]
  },
  {
   "cell_type": "code",
   "execution_count": 10,
   "id": "16a3d94b-37aa-408f-ab26-ddf47a56ca4c",
   "metadata": {},
   "outputs": [],
   "source": [
    "ind = TechnicalIndicatorGenerator()"
   ]
  },
  {
   "cell_type": "code",
   "execution_count": 11,
   "id": "62b01182-47c3-401e-ad2c-4ef46c04969e",
   "metadata": {},
   "outputs": [],
   "source": [
    "df = ind.generate_indicators(df_stock_new)"
   ]
  },
  {
   "cell_type": "code",
   "execution_count": 12,
   "id": "594ce1da-b35c-4ac5-bf81-17ad9aab640c",
   "metadata": {
    "scrolled": true
   },
   "outputs": [
    {
     "data": {
      "text/html": [
       "<div>\n",
       "<style scoped>\n",
       "    .dataframe tbody tr th:only-of-type {\n",
       "        vertical-align: middle;\n",
       "    }\n",
       "\n",
       "    .dataframe tbody tr th {\n",
       "        vertical-align: top;\n",
       "    }\n",
       "\n",
       "    .dataframe thead th {\n",
       "        text-align: right;\n",
       "    }\n",
       "</style>\n",
       "<table border=\"1\" class=\"dataframe\">\n",
       "  <thead>\n",
       "    <tr style=\"text-align: right;\">\n",
       "      <th></th>\n",
       "      <th>open</th>\n",
       "      <th>high</th>\n",
       "      <th>low</th>\n",
       "      <th>close</th>\n",
       "      <th>volume</th>\n",
       "      <th>hl2</th>\n",
       "      <th>hlc3</th>\n",
       "      <th>ohlc4</th>\n",
       "      <th>ema_10_close</th>\n",
       "      <th>sma_10_close</th>\n",
       "      <th>...</th>\n",
       "      <th>TRIXs_30_9</th>\n",
       "      <th>UO_7_14_28</th>\n",
       "      <th>WMA_10</th>\n",
       "      <th>inc</th>\n",
       "      <th>dec</th>\n",
       "      <th>cdl_doji</th>\n",
       "      <th>price_range</th>\n",
       "      <th>body</th>\n",
       "      <th>range_ratio</th>\n",
       "      <th>class</th>\n",
       "    </tr>\n",
       "  </thead>\n",
       "  <tbody>\n",
       "    <tr>\n",
       "      <th>199</th>\n",
       "      <td>191.48</td>\n",
       "      <td>192.7700</td>\n",
       "      <td>189.090</td>\n",
       "      <td>191.04</td>\n",
       "      <td>3064978</td>\n",
       "      <td>190.9300</td>\n",
       "      <td>190.966667</td>\n",
       "      <td>191.0950</td>\n",
       "      <td>190.267660</td>\n",
       "      <td>189.241</td>\n",
       "      <td>...</td>\n",
       "      <td>-0.232332</td>\n",
       "      <td>48.309880</td>\n",
       "      <td>189.310000</td>\n",
       "      <td>0</td>\n",
       "      <td>1</td>\n",
       "      <td>0</td>\n",
       "      <td>3.6800</td>\n",
       "      <td>0.44</td>\n",
       "      <td>0.119565</td>\n",
       "      <td>1</td>\n",
       "    </tr>\n",
       "    <tr>\n",
       "      <th>200</th>\n",
       "      <td>193.18</td>\n",
       "      <td>193.2900</td>\n",
       "      <td>189.180</td>\n",
       "      <td>191.50</td>\n",
       "      <td>3336806</td>\n",
       "      <td>191.2350</td>\n",
       "      <td>191.323333</td>\n",
       "      <td>191.7875</td>\n",
       "      <td>190.491722</td>\n",
       "      <td>189.443</td>\n",
       "      <td>...</td>\n",
       "      <td>-0.237851</td>\n",
       "      <td>53.664967</td>\n",
       "      <td>189.720727</td>\n",
       "      <td>0</td>\n",
       "      <td>1</td>\n",
       "      <td>0</td>\n",
       "      <td>4.1100</td>\n",
       "      <td>1.68</td>\n",
       "      <td>0.408759</td>\n",
       "      <td>1</td>\n",
       "    </tr>\n",
       "    <tr>\n",
       "      <th>201</th>\n",
       "      <td>190.51</td>\n",
       "      <td>193.5700</td>\n",
       "      <td>189.622</td>\n",
       "      <td>191.75</td>\n",
       "      <td>4294875</td>\n",
       "      <td>191.5960</td>\n",
       "      <td>191.647333</td>\n",
       "      <td>191.3630</td>\n",
       "      <td>190.720500</td>\n",
       "      <td>189.473</td>\n",
       "      <td>...</td>\n",
       "      <td>-0.242874</td>\n",
       "      <td>53.193344</td>\n",
       "      <td>190.140182</td>\n",
       "      <td>1</td>\n",
       "      <td>0</td>\n",
       "      <td>0</td>\n",
       "      <td>3.9480</td>\n",
       "      <td>1.24</td>\n",
       "      <td>0.314083</td>\n",
       "      <td>-1</td>\n",
       "    </tr>\n",
       "    <tr>\n",
       "      <th>202</th>\n",
       "      <td>186.80</td>\n",
       "      <td>196.2600</td>\n",
       "      <td>185.300</td>\n",
       "      <td>191.98</td>\n",
       "      <td>9532802</td>\n",
       "      <td>190.7800</td>\n",
       "      <td>191.180000</td>\n",
       "      <td>190.0850</td>\n",
       "      <td>190.949500</td>\n",
       "      <td>189.410</td>\n",
       "      <td>...</td>\n",
       "      <td>-0.247304</td>\n",
       "      <td>56.447254</td>\n",
       "      <td>190.596000</td>\n",
       "      <td>1</td>\n",
       "      <td>0</td>\n",
       "      <td>0</td>\n",
       "      <td>10.9600</td>\n",
       "      <td>5.18</td>\n",
       "      <td>0.472628</td>\n",
       "      <td>-1</td>\n",
       "    </tr>\n",
       "    <tr>\n",
       "      <th>203</th>\n",
       "      <td>184.14</td>\n",
       "      <td>185.0714</td>\n",
       "      <td>183.145</td>\n",
       "      <td>184.02</td>\n",
       "      <td>6962071</td>\n",
       "      <td>184.1082</td>\n",
       "      <td>184.078800</td>\n",
       "      <td>184.0941</td>\n",
       "      <td>189.689591</td>\n",
       "      <td>189.132</td>\n",
       "      <td>...</td>\n",
       "      <td>-0.251177</td>\n",
       "      <td>45.575686</td>\n",
       "      <td>189.616000</td>\n",
       "      <td>0</td>\n",
       "      <td>1</td>\n",
       "      <td>100</td>\n",
       "      <td>1.9264</td>\n",
       "      <td>0.12</td>\n",
       "      <td>0.062292</td>\n",
       "      <td>-1</td>\n",
       "    </tr>\n",
       "  </tbody>\n",
       "</table>\n",
       "<p>5 rows × 171 columns</p>\n",
       "</div>"
      ],
      "text/plain": [
       "       open      high      low   close   volume       hl2        hlc3  \\\n",
       "199  191.48  192.7700  189.090  191.04  3064978  190.9300  190.966667   \n",
       "200  193.18  193.2900  189.180  191.50  3336806  191.2350  191.323333   \n",
       "201  190.51  193.5700  189.622  191.75  4294875  191.5960  191.647333   \n",
       "202  186.80  196.2600  185.300  191.98  9532802  190.7800  191.180000   \n",
       "203  184.14  185.0714  183.145  184.02  6962071  184.1082  184.078800   \n",
       "\n",
       "        ohlc4  ema_10_close  sma_10_close  ...  TRIXs_30_9  UO_7_14_28  \\\n",
       "199  191.0950    190.267660       189.241  ...   -0.232332   48.309880   \n",
       "200  191.7875    190.491722       189.443  ...   -0.237851   53.664967   \n",
       "201  191.3630    190.720500       189.473  ...   -0.242874   53.193344   \n",
       "202  190.0850    190.949500       189.410  ...   -0.247304   56.447254   \n",
       "203  184.0941    189.689591       189.132  ...   -0.251177   45.575686   \n",
       "\n",
       "         WMA_10  inc  dec  cdl_doji  price_range  body  range_ratio  class  \n",
       "199  189.310000    0    1         0       3.6800  0.44     0.119565      1  \n",
       "200  189.720727    0    1         0       4.1100  1.68     0.408759      1  \n",
       "201  190.140182    1    0         0       3.9480  1.24     0.314083     -1  \n",
       "202  190.596000    1    0         0      10.9600  5.18     0.472628     -1  \n",
       "203  189.616000    0    1       100       1.9264  0.12     0.062292     -1  \n",
       "\n",
       "[5 rows x 171 columns]"
      ]
     },
     "execution_count": 12,
     "metadata": {},
     "output_type": "execute_result"
    }
   ],
   "source": [
    "df.head()"
   ]
  },
  {
   "cell_type": "code",
   "execution_count": 13,
   "id": "b0ea733e-5b26-4efe-873f-628ff8d3e048",
   "metadata": {},
   "outputs": [
    {
     "data": {
      "text/plain": [
       "class\n",
       "-1    3171\n",
       " 1    3034\n",
       "Name: count, dtype: int64"
      ]
     },
     "execution_count": 13,
     "metadata": {},
     "output_type": "execute_result"
    }
   ],
   "source": [
    "df['class'].value_counts()"
   ]
  },
  {
   "cell_type": "code",
   "execution_count": 14,
   "id": "0c051849-4346-46cf-8e4d-099af1a23686",
   "metadata": {},
   "outputs": [
    {
     "data": {
      "text/plain": [
       "(6424, 48)"
      ]
     },
     "execution_count": 14,
     "metadata": {},
     "output_type": "execute_result"
    }
   ],
   "source": [
    "df_stock_new.shape"
   ]
  },
  {
   "cell_type": "code",
   "execution_count": 15,
   "id": "237f082b-48ae-42b2-9691-4353ca552b33",
   "metadata": {},
   "outputs": [],
   "source": [
    "from model_trainer import ModelPipeline"
   ]
  },
  {
   "cell_type": "code",
   "execution_count": 16,
   "id": "b9fc51f4-4b3f-4a05-b7c9-2a647eaa2b84",
   "metadata": {},
   "outputs": [],
   "source": [
    "model = ModelPipeline()"
   ]
  },
  {
   "cell_type": "code",
   "execution_count": 17,
   "id": "68aa9784-4340-430e-8d76-dddb0f19301a",
   "metadata": {},
   "outputs": [],
   "source": [
    "model.vertical_split(df, 'class')"
   ]
  },
  {
   "cell_type": "code",
   "execution_count": null,
   "id": "af5978e5-fcf9-4314-bb32-135e6aac261b",
   "metadata": {},
   "outputs": [
    {
     "name": "stdout",
     "output_type": "stream",
     "text": [
      "Applying PCA feature selection...\n",
      "Applying Dispersion_Ratio feature selection...\n",
      "Applying Chi_Square feature selection...\n",
      "Applying Pearson_Correlation feature selection...\n",
      "Applying Mean_Absolute_Difference feature selection...\n",
      "Applying Low_Variance feature selection...\n",
      "Evaluating features selected by at least 1 methods...\n",
      "Threshold n=1: 111 features, accuracy = 0.7955\n",
      "Evaluating features selected by at least 2 methods...\n"
     ]
    }
   ],
   "source": [
    "results = model.train_with_kfold()"
   ]
  },
  {
   "cell_type": "code",
   "execution_count": null,
   "id": "3f299b8d-2aef-4d27-a094-a37fb2d917ec",
   "metadata": {},
   "outputs": [],
   "source": []
  }
 ],
 "metadata": {
  "kernelspec": {
   "display_name": "Python 3 (ipykernel)",
   "language": "python",
   "name": "python3"
  },
  "language_info": {
   "codemirror_mode": {
    "name": "ipython",
    "version": 3
   },
   "file_extension": ".py",
   "mimetype": "text/x-python",
   "name": "python",
   "nbconvert_exporter": "python",
   "pygments_lexer": "ipython3",
   "version": "3.10.12"
  }
 },
 "nbformat": 4,
 "nbformat_minor": 5
}
