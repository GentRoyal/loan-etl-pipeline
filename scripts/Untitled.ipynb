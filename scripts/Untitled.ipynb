{
 "cells": [
  {
   "cell_type": "code",
   "execution_count": 1,
   "id": "a28c1bf9-dc3d-479f-900e-3310b4cef3a0",
   "metadata": {},
   "outputs": [],
   "source": [
    "from api_data_fetcher import MyAPI\n",
    "from database_handler import MySQL\n",
    "from feature_engineering import TechnicalIndicatorGenerator\n",
    "from model_trainer import ModelPipeline\n",
    "\n",
    "import warnings\n",
    "warnings.filterwarnings(\"ignore\")"
   ]
  },
  {
   "cell_type": "code",
   "execution_count": 2,
   "id": "669b7294-bcf8-4ea9-aadb-5da11da05171",
   "metadata": {},
   "outputs": [],
   "source": [
    "api = MyAPI()"
   ]
  },
  {
   "cell_type": "code",
   "execution_count": 3,
   "id": "8891f0ca-bdc3-4fa3-87d3-667dfb874af5",
   "metadata": {},
   "outputs": [],
   "source": [
    "df_stock = api.get_stock(symbol = 'IBM', size = 'full')\n",
    "df_crypto = api.get_crypto(symbol = 'BTC', market = 'USD', size = 'full')"
   ]
  },
  {
   "cell_type": "code",
   "execution_count": 4,
   "id": "e67c8bd0-40cb-4d51-a6b9-2bacbc276403",
   "metadata": {},
   "outputs": [
    {
     "data": {
      "text/html": [
       "<div>\n",
       "<style scoped>\n",
       "    .dataframe tbody tr th:only-of-type {\n",
       "        vertical-align: middle;\n",
       "    }\n",
       "\n",
       "    .dataframe tbody tr th {\n",
       "        vertical-align: top;\n",
       "    }\n",
       "\n",
       "    .dataframe thead th {\n",
       "        text-align: right;\n",
       "    }\n",
       "</style>\n",
       "<table border=\"1\" class=\"dataframe\">\n",
       "  <thead>\n",
       "    <tr style=\"text-align: right;\">\n",
       "      <th></th>\n",
       "      <th>open</th>\n",
       "      <th>high</th>\n",
       "      <th>low</th>\n",
       "      <th>close</th>\n",
       "      <th>volume</th>\n",
       "    </tr>\n",
       "    <tr>\n",
       "      <th>timestamp</th>\n",
       "      <th></th>\n",
       "      <th></th>\n",
       "      <th></th>\n",
       "      <th></th>\n",
       "      <th></th>\n",
       "    </tr>\n",
       "  </thead>\n",
       "  <tbody>\n",
       "    <tr>\n",
       "      <th>2025-05-15</th>\n",
       "      <td>259.01</td>\n",
       "      <td>267.43</td>\n",
       "      <td>258.61</td>\n",
       "      <td>266.68</td>\n",
       "      <td>4856276</td>\n",
       "    </tr>\n",
       "    <tr>\n",
       "      <th>2025-05-14</th>\n",
       "      <td>257.60</td>\n",
       "      <td>260.55</td>\n",
       "      <td>256.22</td>\n",
       "      <td>257.82</td>\n",
       "      <td>3635124</td>\n",
       "    </tr>\n",
       "    <tr>\n",
       "      <th>2025-05-13</th>\n",
       "      <td>254.43</td>\n",
       "      <td>259.58</td>\n",
       "      <td>252.88</td>\n",
       "      <td>258.59</td>\n",
       "      <td>3521389</td>\n",
       "    </tr>\n",
       "    <tr>\n",
       "      <th>2025-05-12</th>\n",
       "      <td>252.50</td>\n",
       "      <td>253.81</td>\n",
       "      <td>244.65</td>\n",
       "      <td>253.69</td>\n",
       "      <td>4609520</td>\n",
       "    </tr>\n",
       "    <tr>\n",
       "      <th>2025-05-09</th>\n",
       "      <td>252.51</td>\n",
       "      <td>253.00</td>\n",
       "      <td>247.64</td>\n",
       "      <td>249.20</td>\n",
       "      <td>2901346</td>\n",
       "    </tr>\n",
       "  </tbody>\n",
       "</table>\n",
       "</div>"
      ],
      "text/plain": [
       "              open    high     low   close   volume\n",
       "timestamp                                          \n",
       "2025-05-15  259.01  267.43  258.61  266.68  4856276\n",
       "2025-05-14  257.60  260.55  256.22  257.82  3635124\n",
       "2025-05-13  254.43  259.58  252.88  258.59  3521389\n",
       "2025-05-12  252.50  253.81  244.65  253.69  4609520\n",
       "2025-05-09  252.51  253.00  247.64  249.20  2901346"
      ]
     },
     "execution_count": 4,
     "metadata": {},
     "output_type": "execute_result"
    }
   ],
   "source": [
    "df_stock.head()"
   ]
  },
  {
   "cell_type": "code",
   "execution_count": 5,
   "id": "1b47ea03-60f9-4357-9f58-b8efafc212d4",
   "metadata": {},
   "outputs": [
    {
     "data": {
      "text/html": [
       "<div>\n",
       "<style scoped>\n",
       "    .dataframe tbody tr th:only-of-type {\n",
       "        vertical-align: middle;\n",
       "    }\n",
       "\n",
       "    .dataframe tbody tr th {\n",
       "        vertical-align: top;\n",
       "    }\n",
       "\n",
       "    .dataframe thead th {\n",
       "        text-align: right;\n",
       "    }\n",
       "</style>\n",
       "<table border=\"1\" class=\"dataframe\">\n",
       "  <thead>\n",
       "    <tr style=\"text-align: right;\">\n",
       "      <th></th>\n",
       "      <th>open</th>\n",
       "      <th>high</th>\n",
       "      <th>low</th>\n",
       "      <th>close</th>\n",
       "      <th>volume</th>\n",
       "    </tr>\n",
       "    <tr>\n",
       "      <th>timestamp</th>\n",
       "      <th></th>\n",
       "      <th></th>\n",
       "      <th></th>\n",
       "      <th></th>\n",
       "      <th></th>\n",
       "    </tr>\n",
       "  </thead>\n",
       "  <tbody>\n",
       "    <tr>\n",
       "      <th>2025-05-15</th>\n",
       "      <td>45.43</td>\n",
       "      <td>46.1700</td>\n",
       "      <td>44.9300</td>\n",
       "      <td>45.70</td>\n",
       "      <td>669748</td>\n",
       "    </tr>\n",
       "    <tr>\n",
       "      <th>2025-05-14</th>\n",
       "      <td>46.11</td>\n",
       "      <td>46.2500</td>\n",
       "      <td>45.4650</td>\n",
       "      <td>45.77</td>\n",
       "      <td>1020446</td>\n",
       "    </tr>\n",
       "    <tr>\n",
       "      <th>2025-05-13</th>\n",
       "      <td>45.97</td>\n",
       "      <td>46.5535</td>\n",
       "      <td>45.5800</td>\n",
       "      <td>46.45</td>\n",
       "      <td>1246796</td>\n",
       "    </tr>\n",
       "    <tr>\n",
       "      <th>2025-05-12</th>\n",
       "      <td>46.13</td>\n",
       "      <td>46.3300</td>\n",
       "      <td>44.6554</td>\n",
       "      <td>45.11</td>\n",
       "      <td>1179521</td>\n",
       "    </tr>\n",
       "    <tr>\n",
       "      <th>2025-05-09</th>\n",
       "      <td>45.63</td>\n",
       "      <td>46.0050</td>\n",
       "      <td>45.3600</td>\n",
       "      <td>45.75</td>\n",
       "      <td>1311055</td>\n",
       "    </tr>\n",
       "  </tbody>\n",
       "</table>\n",
       "</div>"
      ],
      "text/plain": [
       "             open     high      low  close   volume\n",
       "timestamp                                          \n",
       "2025-05-15  45.43  46.1700  44.9300  45.70   669748\n",
       "2025-05-14  46.11  46.2500  45.4650  45.77  1020446\n",
       "2025-05-13  45.97  46.5535  45.5800  46.45  1246796\n",
       "2025-05-12  46.13  46.3300  44.6554  45.11  1179521\n",
       "2025-05-09  45.63  46.0050  45.3600  45.75  1311055"
      ]
     },
     "execution_count": 5,
     "metadata": {},
     "output_type": "execute_result"
    }
   ],
   "source": [
    "df_crypto.head()"
   ]
  },
  {
   "cell_type": "code",
   "execution_count": 1,
   "id": "cd21ba41-e0d3-4e06-be2c-6d4003df4d7d",
   "metadata": {},
   "outputs": [],
   "source": [
    "mysql = MySQL()"
   ]
  },
  {
   "cell_type": "code",
   "execution_count": null,
   "id": "63cb289e-9947-4688-9fb3-824c9ed026f0",
   "metadata": {},
   "outputs": [],
   "source": [
    "mysql.to_table(df_stock, 'ibm', if_exists = 'replace')"
   ]
  },
  {
   "cell_type": "code",
   "execution_count": 1,
   "id": "77eb6502-1f40-4b70-acf6-b334fbdb9651",
   "metadata": {},
   "outputs": [
    {
     "name": "stdout",
     "output_type": "stream",
     "text": [
      "Data retrieved from table 'ibm' successfully.\n"
     ]
    },
    {
     "data": {
      "text/plain": [
       "(500, 5)"
      ]
     },
     "execution_count": 1,
     "metadata": {},
     "output_type": "execute_result"
    }
   ],
   "source": [
    "from api_data_fetcher import MyAPI\n",
    "from database_handler import MySQL\n",
    "from feature_engineering import TechnicalIndicatorGenerator\n",
    "from model_trainer import ModelPipeline\n",
    "\n",
    "import warnings\n",
    "warnings.filterwarnings(\"ignore\")\n",
    "mysql = MySQL()\n",
    "\n",
    "mysql = MySQL()\n",
    "df_stock_new = mysql.from_table(symbol = 'ibm')\n",
    "df_stock_new.shape"
   ]
  },
  {
   "cell_type": "code",
   "execution_count": 2,
   "id": "16a3d94b-37aa-408f-ab26-ddf47a56ca4c",
   "metadata": {},
   "outputs": [
    {
     "data": {
      "text/plain": [
       "(301, 171)"
      ]
     },
     "execution_count": 2,
     "metadata": {},
     "output_type": "execute_result"
    }
   ],
   "source": [
    "ind = TechnicalIndicatorGenerator()\n",
    "df = ind.generate_indicators(df_stock_new)\n",
    "df.shape"
   ]
  },
  {
   "cell_type": "code",
   "execution_count": 3,
   "id": "b9fc51f4-4b3f-4a05-b7c9-2a647eaa2b84",
   "metadata": {},
   "outputs": [],
   "source": [
    "model = ModelPipeline()"
   ]
  },
  {
   "cell_type": "code",
   "execution_count": 4,
   "id": "68aa9784-4340-430e-8d76-dddb0f19301a",
   "metadata": {},
   "outputs": [],
   "source": [
    "model.vertical_split(df, 'class')"
   ]
  },
  {
   "cell_type": "code",
   "execution_count": 5,
   "id": "af5978e5-fcf9-4314-bb32-135e6aac261b",
   "metadata": {
    "scrolled": true
   },
   "outputs": [
    {
     "name": "stdout",
     "output_type": "stream",
     "text": [
      "Applying PCA feature selection...\n",
      "Applying Dispersion_Ratio feature selection...\n",
      "Applying Chi_Square feature selection...\n",
      "Applying Pearson_Correlation feature selection...\n",
      "Applying Mean_Absolute_Difference feature selection...\n",
      "Applying Low_Variance feature selection...\n",
      "Evaluating Model on All Features...\n",
      "Threshold n = 0: 170 features, accuracy = 0.8167\n",
      "🏃 View run KFold_n_0_20250516_170216 at: http://127.0.0.1:5000/#/experiments/2/runs/7a50a127cc5c4eceaf5610121f064787\n",
      "🧪 View experiment at: http://127.0.0.1:5000/#/experiments/2\n",
      "Evaluating Model on Features Selected by ≥ 1 Methods...\n",
      "Threshold n = 1: 100 features, accuracy = 0.8000\n",
      "🏃 View run KFold_n_1_20250516_170216 at: http://127.0.0.1:5000/#/experiments/2/runs/21e6e898463c4203a56b70e5a28e7e4d\n",
      "🧪 View experiment at: http://127.0.0.1:5000/#/experiments/2\n",
      "Evaluating Model on Features Selected by ≥ 2 Methods...\n",
      "Threshold n = 2: 59 features, accuracy = 0.8366\n",
      "🏃 View run KFold_n_2_20250516_170216 at: http://127.0.0.1:5000/#/experiments/2/runs/10097b37332e47fd87b68a5dc7b9f7fe\n",
      "🧪 View experiment at: http://127.0.0.1:5000/#/experiments/2\n",
      "Evaluating Model on Features Selected by ≥ 3 Methods...\n",
      "Threshold n = 3: 45 features, accuracy = 0.8333\n",
      "🏃 View run KFold_n_3_20250516_170216 at: http://127.0.0.1:5000/#/experiments/2/runs/019152f40a11442fb992fbacf013477d\n",
      "🧪 View experiment at: http://127.0.0.1:5000/#/experiments/2\n",
      "Evaluating Model on Features Selected by ≥ 4 Methods...\n",
      "Threshold n = 4: 39 features, accuracy = 0.8527\n",
      "🏃 View run KFold_n_4_20250516_170216 at: http://127.0.0.1:5000/#/experiments/2/runs/14b7664db69849ca9fba35921b5ae8f4\n",
      "🧪 View experiment at: http://127.0.0.1:5000/#/experiments/2\n",
      "Evaluating Model on Features Selected by ≥ 5 Methods...\n",
      "Threshold n = 5: 9 features, accuracy = 0.6667\n",
      "🏃 View run KFold_n_5_20250516_170216 at: http://127.0.0.1:5000/#/experiments/2/runs/dc2971d1262649c29624b623d37d2d8b\n",
      "🧪 View experiment at: http://127.0.0.1:5000/#/experiments/2\n",
      "No Features Selected for Threshold n = 6\n",
      "🏃 View run Final_Results_20250516_170216 at: http://127.0.0.1:5000/#/experiments/2/runs/712d9f21c64b46a1a359d524abbfee4c\n",
      "🧪 View experiment at: http://127.0.0.1:5000/#/experiments/2\n",
      "🏃 View run Best_Model_n_4_20250516_170216 at: http://127.0.0.1:5000/#/experiments/2/runs/e66070633e36486198a3da03d37c878c\n",
      "🧪 View experiment at: http://127.0.0.1:5000/#/experiments/2\n"
     ]
    }
   ],
   "source": [
    "results = model.train_with_kfold()"
   ]
  }
 ],
 "metadata": {
  "kernelspec": {
   "display_name": "Python 3 (ipykernel)",
   "language": "python",
   "name": "python3"
  },
  "language_info": {
   "codemirror_mode": {
    "name": "ipython",
    "version": 3
   },
   "file_extension": ".py",
   "mimetype": "text/x-python",
   "name": "python",
   "nbconvert_exporter": "python",
   "pygments_lexer": "ipython3",
   "version": "3.10.12"
  }
 },
 "nbformat": 4,
 "nbformat_minor": 5
}
